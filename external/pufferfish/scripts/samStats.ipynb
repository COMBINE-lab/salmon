{
 "cells": [
  {
   "cell_type": "code",
   "execution_count": 1,
   "metadata": {},
   "outputs": [],
   "source": [
    "from collections import defaultdict\n",
    "from multiprocessing import Pool, TimeoutError, Manager\n",
    "from itertools import repeat\n",
    "from datetime import datetime"
   ]
  },
  {
   "cell_type": "code",
   "execution_count": 2,
   "metadata": {},
   "outputs": [],
   "source": [
    "def gatherStats(file):    \n",
    "    infoMap = defaultdict()\n",
    "    with open(file, 'r') as f:\n",
    "        while (f.readline()[0] == '@'):\n",
    "            continue\n",
    "        for l in f:\n",
    "            cols = l.split('\\t')\n",
    "            readParts = cols[0].split(';')\n",
    "            rid = readParts[0].split('/')[0].split('read')[1]\n",
    "            tid = readParts[0].split('/')[1]\n",
    "            mate1pos = readParts[1].split(':')[1].split('-')[0]\n",
    "            mate2pos = readParts[2].split(':')[1].split('-')[0]\n",
    "\n",
    "            aligned_tid = cols[2]\n",
    "            isPrimary = tid == aligned_tid\n",
    "            aligned_rpos = cols[3]\n",
    "            isExact = (mate1pos == aligned_rpos or mate2pos == str(int(aligned_rpos)+1))\n",
    "            if rid not in infoMap:\n",
    "                infoMap[rid] = [0,0,0,0]\n",
    "            infoMap[rid][0]+=1\n",
    "            if (isPrimary):\n",
    "                infoMap[rid][1]+=1\n",
    "            if (isExact):\n",
    "                infoMap[rid][2]+=1            \n",
    "    return infoMap"
   ]
  },
  {
   "cell_type": "code",
   "execution_count": 5,
   "metadata": {},
   "outputs": [
    {
     "ename": "SyntaxError",
     "evalue": "invalid syntax (<ipython-input-5-30e40f5d95ea>, line 39)",
     "output_type": "error",
     "traceback": [
      "\u001b[0;36m  File \u001b[0;32m\"<ipython-input-5-30e40f5d95ea>\"\u001b[0;36m, line \u001b[0;32m39\u001b[0m\n\u001b[0;31m    result_list = pool.map(calcLineStat,         (zip(repeat(resMap), lines[line:line+numlines for line in range(0,len(lines),numlines)] )) )\u001b[0m\n\u001b[0m                                                                                                 ^\u001b[0m\n\u001b[0;31mSyntaxError\u001b[0m\u001b[0;31m:\u001b[0m invalid syntax\n"
     ]
    }
   ],
   "source": [
    "def calcLineStat(args):\n",
    "    infoMap = args[0]\n",
    "    lines = args[1]\n",
    "    \"\"\"Make a dict out of the parsed, supplied lines\"\"\"\n",
    "    for l in lines.split('\\n'):\n",
    "        cols = l.split('\\t')\n",
    "        readParts = cols[0].split(';')\n",
    "        rid = readParts[0].split('/')[0].split('read')[1]\n",
    "        tid = readParts[0].split('/')[1]\n",
    "        mate1pos = readParts[1].split(':')[1].split('-')[0]\n",
    "        mate2pos = readParts[2].split(':')[1].split('-')[0]\n",
    "\n",
    "        aligned_tid = cols[3]\n",
    "        isPrimary1 = (cols[1] == '99')\n",
    "        isPrimary2 = (cols[1] == '147')\n",
    "        aligned_rpos = cols[3]\n",
    "        isExact = (mate1pos == aligned_rpos or mate2pos == str(int(aligned_rpos)+1))\n",
    "        if rid not in infoMap:\n",
    "            infoMap[rid] = [0,0,0,0] # total count, mate1 is primary, mate2 is primary, correct position\n",
    "        infoMap[rid][0]+=1\n",
    "        if (isPrimary1):\n",
    "            infoMap[rid][1]+=1\n",
    "        elif (isPrimary2):\n",
    "            infoMap[rid][2]+=1\n",
    "        if isExact:\n",
    "            infoMap[rid][3]+=1\n",
    "    return infoMap\n",
    "\n",
    "def para_gatherStats(file, numthreads=2):\n",
    "    numlines = 100\n",
    "\n",
    "    lines = open(file).readlines()\n",
    "\n",
    "    # create the process pool\n",
    "    pool = Pool(processes=numthreads)\n",
    "\n",
    "    resMap = Manager().dict()\n",
    "    # map the list of lines into a list of result dicts\n",
    "    result_list = pool.map(calcLineStat, \\\n",
    "        (zip(repeat(resMap), lines[line:line+numlines for line in range(0,len(lines),numlines)] )) )\n",
    "\n",
    "    # reduce the result dicts into a single dict\n",
    "    result = {}\n",
    "    map(result.update, result_list)\n",
    "    return result"
   ]
  },
  {
   "cell_type": "code",
   "execution_count": 11,
   "metadata": {
    "collapsed": true
   },
   "outputs": [
    {
     "ename": "TypeError",
     "evalue": "calcLineStat() missing 1 required positional argument: 'lines'",
     "output_type": "error",
     "traceback": [
      "\u001b[0;31m---------------------------------------------------------------------------\u001b[0m",
      "\u001b[0;31mRemoteTraceback\u001b[0m                           Traceback (most recent call last)",
      "\u001b[0;31mRemoteTraceback\u001b[0m: \n\"\"\"\nTraceback (most recent call last):\n  File \"/home/fatemeh/miniconda3/lib/python3.6/multiprocessing/pool.py\", line 119, in worker\n    result = (True, func(*args, **kwds))\n  File \"/home/fatemeh/miniconda3/lib/python3.6/multiprocessing/pool.py\", line 44, in mapstar\n    return list(map(*args))\nTypeError: calcLineStat() missing 1 required positional argument: 'lines'\n\"\"\"",
      "\nThe above exception was the direct cause of the following exception:\n",
      "\u001b[0;31mTypeError\u001b[0m                                 Traceback (most recent call last)",
      "\u001b[0;32m<ipython-input-11-59deeedf15bb>\u001b[0m in \u001b[0;36m<module>\u001b[0;34m()\u001b[0m\n\u001b[0;32m----> 1\u001b[0;31m \u001b[0mpuffMapPara\u001b[0m\u001b[0;34m=\u001b[0m\u001b[0mpara_gatherStats\u001b[0m\u001b[0;34m(\u001b[0m\u001b[0;34m'/mnt/scratch6/pufferfish_experiment/small_test/samtest.sam'\u001b[0m\u001b[0;34m,\u001b[0m \u001b[0;36m2\u001b[0m\u001b[0;34m)\u001b[0m\u001b[0;34m\u001b[0m\u001b[0m\n\u001b[0m",
      "\u001b[0;32m<ipython-input-10-035199b52981>\u001b[0m in \u001b[0;36mpara_gatherStats\u001b[0;34m(file, numthreads)\u001b[0m\n\u001b[1;32m     36\u001b[0m     \u001b[0;31m# map the list of lines into a list of result dicts\u001b[0m\u001b[0;34m\u001b[0m\u001b[0;34m\u001b[0m\u001b[0m\n\u001b[1;32m     37\u001b[0m     result_list = pool.map(calcLineStat, \n\u001b[0;32m---> 38\u001b[0;31m         (resMap, [lines[line:line+numlines] for line in range(0,len(lines),numlines)] ) )\n\u001b[0m\u001b[1;32m     39\u001b[0m \u001b[0;34m\u001b[0m\u001b[0m\n\u001b[1;32m     40\u001b[0m     \u001b[0;31m# reduce the result dicts into a single dict\u001b[0m\u001b[0;34m\u001b[0m\u001b[0;34m\u001b[0m\u001b[0m\n",
      "\u001b[0;32m~/miniconda3/lib/python3.6/multiprocessing/pool.py\u001b[0m in \u001b[0;36mmap\u001b[0;34m(self, func, iterable, chunksize)\u001b[0m\n\u001b[1;32m    258\u001b[0m         \u001b[0;32min\u001b[0m \u001b[0ma\u001b[0m \u001b[0mlist\u001b[0m \u001b[0mthat\u001b[0m \u001b[0;32mis\u001b[0m \u001b[0mreturned\u001b[0m\u001b[0;34m.\u001b[0m\u001b[0;34m\u001b[0m\u001b[0m\n\u001b[1;32m    259\u001b[0m         '''\n\u001b[0;32m--> 260\u001b[0;31m         \u001b[0;32mreturn\u001b[0m \u001b[0mself\u001b[0m\u001b[0;34m.\u001b[0m\u001b[0m_map_async\u001b[0m\u001b[0;34m(\u001b[0m\u001b[0mfunc\u001b[0m\u001b[0;34m,\u001b[0m \u001b[0miterable\u001b[0m\u001b[0;34m,\u001b[0m \u001b[0mmapstar\u001b[0m\u001b[0;34m,\u001b[0m \u001b[0mchunksize\u001b[0m\u001b[0;34m)\u001b[0m\u001b[0;34m.\u001b[0m\u001b[0mget\u001b[0m\u001b[0;34m(\u001b[0m\u001b[0;34m)\u001b[0m\u001b[0;34m\u001b[0m\u001b[0m\n\u001b[0m\u001b[1;32m    261\u001b[0m \u001b[0;34m\u001b[0m\u001b[0m\n\u001b[1;32m    262\u001b[0m     \u001b[0;32mdef\u001b[0m \u001b[0mstarmap\u001b[0m\u001b[0;34m(\u001b[0m\u001b[0mself\u001b[0m\u001b[0;34m,\u001b[0m \u001b[0mfunc\u001b[0m\u001b[0;34m,\u001b[0m \u001b[0miterable\u001b[0m\u001b[0;34m,\u001b[0m \u001b[0mchunksize\u001b[0m\u001b[0;34m=\u001b[0m\u001b[0;32mNone\u001b[0m\u001b[0;34m)\u001b[0m\u001b[0;34m:\u001b[0m\u001b[0;34m\u001b[0m\u001b[0m\n",
      "\u001b[0;32m~/miniconda3/lib/python3.6/multiprocessing/pool.py\u001b[0m in \u001b[0;36mget\u001b[0;34m(self, timeout)\u001b[0m\n\u001b[1;32m    606\u001b[0m             \u001b[0;32mreturn\u001b[0m \u001b[0mself\u001b[0m\u001b[0;34m.\u001b[0m\u001b[0m_value\u001b[0m\u001b[0;34m\u001b[0m\u001b[0m\n\u001b[1;32m    607\u001b[0m         \u001b[0;32melse\u001b[0m\u001b[0;34m:\u001b[0m\u001b[0;34m\u001b[0m\u001b[0m\n\u001b[0;32m--> 608\u001b[0;31m             \u001b[0;32mraise\u001b[0m \u001b[0mself\u001b[0m\u001b[0;34m.\u001b[0m\u001b[0m_value\u001b[0m\u001b[0;34m\u001b[0m\u001b[0m\n\u001b[0m\u001b[1;32m    609\u001b[0m \u001b[0;34m\u001b[0m\u001b[0m\n\u001b[1;32m    610\u001b[0m     \u001b[0;32mdef\u001b[0m \u001b[0m_set\u001b[0m\u001b[0;34m(\u001b[0m\u001b[0mself\u001b[0m\u001b[0;34m,\u001b[0m \u001b[0mi\u001b[0m\u001b[0;34m,\u001b[0m \u001b[0mobj\u001b[0m\u001b[0;34m)\u001b[0m\u001b[0;34m:\u001b[0m\u001b[0;34m\u001b[0m\u001b[0m\n",
      "\u001b[0;31mTypeError\u001b[0m: calcLineStat() missing 1 required positional argument: 'lines'"
     ]
    }
   ],
   "source": [
    "puffMapPara=para_gatherStats('/mnt/scratch6/pufferfish_experiment/small_test/samtest.sam', 2)"
   ]
  },
  {
   "cell_type": "code",
   "execution_count": 9,
   "metadata": {},
   "outputs": [
    {
     "name": "stdout",
     "output_type": "stream",
     "text": [
      "took 0:06:41.348663\n"
     ]
    }
   ],
   "source": [
    "st = datetime.now()\n",
    "#kalMap = gatherStats('/mnt/scratch2/kal_out.sam')\n",
    "#rapMap = gatherStats('/mnt/scratch2/rapmap_out.sam')\n",
    "puffMap = gatherStats('/mnt/scratch6/pufferfish_experiment/small_test/puff_out.sam')#/mnt/scratch2/puff_out.sam')\n",
    "print('took {}'.format(datetime.now()-st))"
   ]
  },
  {
   "cell_type": "code",
   "execution_count": 10,
   "metadata": {},
   "outputs": [
    {
     "name": "stdout",
     "output_type": "stream",
     "text": [
      "actual # of reads: 33,464,798\n",
      "33428384\n"
     ]
    }
   ],
   "source": [
    "print('actual # of reads: 33,464,798')\n",
    "print(len(puffMap))\n",
    "#print(len(rapMap))\n",
    "#print(len(kalMap))"
   ]
  },
  {
   "cell_type": "code",
   "execution_count": 11,
   "metadata": {},
   "outputs": [
    {
     "name": "stdout",
     "output_type": "stream",
     "text": [
      "maximum multimapping ==> key:32279386, val:456\n",
      "correctlyMapped:33202776, cnt:66455019\n",
      "isExact:32507683, cnt:57694355\n"
     ]
    }
   ],
   "source": [
    "maxv = 0\n",
    "maxk = ''\n",
    "correctlyMapped = 0\n",
    "correctlyMappedCnt = 0\n",
    "isExact = 0\n",
    "isExactCnt = 0\n",
    "cntDist = []\n",
    "for k, v in puffMap.items():\n",
    "    cntDist += [v[0]]\n",
    "    if (v[0] > maxv):\n",
    "        maxv = v[0]\n",
    "        maxk = k\n",
    "    if (v[1] > 0):\n",
    "        correctlyMapped += 1\n",
    "        correctlyMappedCnt += v[1]\n",
    "    if (v[2] > 0):\n",
    "        isExact += 1\n",
    "        isExactCnt += v[2]\n",
    "print('maximum multimapping ==> key:{}, val:{}'.format(maxk,maxv))\n",
    "print('correctlyMapped:{}, cnt:{}'.format(correctlyMapped, correctlyMappedCnt))\n",
    "print('isExact:{}, cnt:{}'.format(isExact, isExactCnt))"
   ]
  },
  {
   "cell_type": "code",
   "execution_count": 12,
   "metadata": {
    "collapsed": true
   },
   "outputs": [],
   "source": [
    "from numpy import histogram\n",
    "a = histogram(cntDist)"
   ]
  },
  {
   "cell_type": "code",
   "execution_count": 14,
   "metadata": {},
   "outputs": [
    {
     "name": "stdout",
     "output_type": "stream",
     "text": [
      "(array([33427983,       96,       37,       50,       88,       70,\n",
      "             37,       14,        5,        4]), array([   1. ,   46.5,   92. ,  137.5,  183. ,  228.5,  274. ,  319.5,\n",
      "        365. ,  410.5,  456. ]))\n",
      "1.0\t33427983\n",
      "46.5\t96\n",
      "92.0\t37\n",
      "137.5\t50\n",
      "183.0\t88\n",
      "228.5\t70\n",
      "274.0\t37\n",
      "319.5\t14\n",
      "365.0\t5\n",
      "410.5\t4\n"
     ]
    }
   ],
   "source": [
    "print(a)\n",
    "for j in range(len(a[0])):\n",
    "    print('{}\\t{}'.format(a[1][j], a[0][j]))"
   ]
  },
  {
   "cell_type": "code",
   "execution_count": 15,
   "metadata": {},
   "outputs": [
    {
     "name": "stdout",
     "output_type": "stream",
     "text": [
      "33213471\n",
      "218234\n"
     ]
    }
   ],
   "source": [
    "good_cnt = 0\n",
    "bad_cnt = 0\n",
    "for k,v in readMap.items():\n",
    "    if (v[0] > 10):\n",
    "        bad_cnt+=1\n",
    "        #print('{}:  {},{},{},{}'.format(k, v[0], v[1], v[2], v[3]))\n",
    "    else:\n",
    "        good_cnt+=1\n",
    "print(good_cnt)\n",
    "print(bad_cnt)"
   ]
  },
  {
   "cell_type": "code",
   "execution_count": null,
   "metadata": {
    "collapsed": true
   },
   "outputs": [],
   "source": [
    "def f(x):\n",
    "    return x*x\n",
    "\n",
    "if __name__ == '__main__':\n",
    "    with Pool(5) as p:\n",
    "        print(p.map(f, [1, 2, 3]))"
   ]
  }
 ],
 "metadata": {
  "kernelspec": {
   "display_name": "Python 2",
   "language": "python",
   "name": "python2"
  },
  "language_info": {
   "codemirror_mode": {
    "name": "ipython",
    "version": 2
   },
   "file_extension": ".py",
   "mimetype": "text/x-python",
   "name": "python",
   "nbconvert_exporter": "python",
   "pygments_lexer": "ipython2",
   "version": "2.7.13"
  }
 },
 "nbformat": 4,
 "nbformat_minor": 2
}
